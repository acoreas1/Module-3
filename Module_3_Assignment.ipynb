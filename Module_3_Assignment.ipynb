{
  "nbformat": 4,
  "nbformat_minor": 0,
  "metadata": {
    "colab": {
      "provenance": []
    },
    "kernelspec": {
      "name": "python3",
      "display_name": "Python 3"
    },
    "language_info": {
      "name": "python"
    }
  },
  "cells": [
    {
      "cell_type": "code",
      "execution_count": 1,
      "metadata": {
        "colab": {
          "base_uri": "https://localhost:8080/"
        },
        "id": "BCMNHzhxZ3x_",
        "outputId": "88839be4-0579-43b9-81fd-1110d89dc776"
      },
      "outputs": [
        {
          "output_type": "stream",
          "name": "stdout",
          "text": [
            "                         drink  Volume (ml)  Calories  Caffeine (mg)    type\n",
            "0                 Costa Coffee   256.993715         0            277  Coffee\n",
            "1  Coffee Friend Brewed Coffee   250.191810         0            145  Coffee\n",
            "2           Hell Energy Coffee   250.191810       150            100  Coffee\n",
            "3           Killer Coffee (AU)   250.191810         0            430  Coffee\n",
            "4                 Nescafe Gold   250.191810         0             66  Coffee\n",
            "                         drink  Volume (ml)  Calories  Caffeine (mg)   type\n",
            "605   Pep Talk Sparkling Water      354.882         0             55  Water\n",
            "606        Polar Seltzer Water      354.882         0              0  Water\n",
            "607     Yerbae Sparkling Water      354.882         0            100  Water\n",
            "608                Tonic Water      295.735       110              0  Water\n",
            "609  MiO Energy Water Enhancer      236.588         0             60  Water\n"
          ]
        }
      ],
      "source": [
        "import pandas as pd\n",
        "df = pd.read_csv('caffeine.csv')\n",
        "print(df.head(5))\n",
        "print(df.tail(5))"
      ]
    },
    {
      "cell_type": "code",
      "source": [
        "df = df.dropna()\n",
        "df.dropna(axis=0, how='any', inplace=True)\n",
        "df.dropna(axis=1, how='any', inplace=True)\n",
        "df.drop(columns=['Calories'], inplace=True)\n",
        "df[\"Caffeine per ml\"] = df[\"Caffeine (mg)\"] / df[\"Volume (ml)\"]\n",
        "print(df.head(5))\n",
        "print(df.tail(5))"
      ],
      "metadata": {
        "colab": {
          "base_uri": "https://localhost:8080/"
        },
        "id": "mqUO7JmnddRQ",
        "outputId": "bd597005-6ee2-446f-dac6-01f00d6863eb"
      },
      "execution_count": 5,
      "outputs": [
        {
          "output_type": "stream",
          "name": "stdout",
          "text": [
            "                         drink  Volume (ml)  Caffeine (mg)    type  \\\n",
            "0                 Costa Coffee   256.993715            277  Coffee   \n",
            "1  Coffee Friend Brewed Coffee   250.191810            145  Coffee   \n",
            "2           Hell Energy Coffee   250.191810            100  Coffee   \n",
            "3           Killer Coffee (AU)   250.191810            430  Coffee   \n",
            "4                 Nescafe Gold   250.191810             66  Coffee   \n",
            "\n",
            "   Caffeine per ml  \n",
            "0         1.077847  \n",
            "1         0.579555  \n",
            "2         0.399693  \n",
            "3         1.718681  \n",
            "4         0.263798  \n",
            "                         drink  Volume (ml)  Caffeine (mg)   type  \\\n",
            "605   Pep Talk Sparkling Water      354.882             55  Water   \n",
            "606        Polar Seltzer Water      354.882              0  Water   \n",
            "607     Yerbae Sparkling Water      354.882            100  Water   \n",
            "608                Tonic Water      295.735              0  Water   \n",
            "609  MiO Energy Water Enhancer      236.588             60  Water   \n",
            "\n",
            "     Caffeine per ml  \n",
            "605         0.154981  \n",
            "606         0.000000  \n",
            "607         0.281784  \n",
            "608         0.000000  \n",
            "609         0.253605  \n"
          ]
        }
      ]
    },
    {
      "cell_type": "code",
      "source": [],
      "metadata": {
        "colab": {
          "base_uri": "https://localhost:8080/"
        },
        "id": "SC5ct2bUeB0k",
        "outputId": "cfd5ad92-e4cf-435f-9fe6-d61147aafd27"
      },
      "execution_count": 6,
      "outputs": [
        {
          "output_type": "stream",
          "name": "stdout",
          "text": [
            "                             drink  Volume (ml)  Caffeine (mg)          type  \\\n",
            "406         Vital 4U Liquid Energy    14.786750            155  Energy Shots   \n",
            "405        Screamin Energy Max Hit    18.039835            185  Energy Shots   \n",
            "407      Kaffn8 Liquified Caffeine     7.393375             75  Energy Shots   \n",
            "416             Neu Nootropic Shot    59.147000            350  Energy Shots   \n",
            "427             X-Mode Energy Shot    29.573500            150  Energy Shots   \n",
            "399  Eternal Energy Extra Strength    57.076855            280  Energy Shots   \n",
            "419            Phoenix Energy Shot    59.147000            280  Energy Shots   \n",
            "425                   Tweaker Shot    59.147000            275  Energy Shots   \n",
            "410           7-Eleven Energy Shot    59.147000            260  Energy Shots   \n",
            "85       Black Label Brewed Coffee   354.882000           1555        Coffee   \n",
            "\n",
            "     Caffeine per ml  \n",
            "406        10.482358  \n",
            "405        10.255083  \n",
            "407        10.144217  \n",
            "416         5.917460  \n",
            "427         5.072108  \n",
            "399         4.905666  \n",
            "419         4.733968  \n",
            "425         4.649433  \n",
            "410         4.395827  \n",
            "85          4.381738  \n"
          ]
        }
      ]
    }
  ]
}